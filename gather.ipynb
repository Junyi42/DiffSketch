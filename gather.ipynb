{
 "cells": [
  {
   "cell_type": "code",
   "execution_count": 6,
   "metadata": {},
   "outputs": [
    {
     "name": "stdout",
     "output_type": "stream",
     "text": [
      "文件移动完成！\n"
     ]
    }
   ],
   "source": [
    "import os\n",
    "import shutil\n",
    "\n",
    "# 定义源文件夹和目标文件夹路径\n",
    "source_folder = \"./experiments/sketch_{}/refined/\"\n",
    "target_folder = \"./result/\"\n",
    "\n",
    "# 遍历1到180\n",
    "for i in range(171, 181):\n",
    "    # 构建源文件的路径\n",
    "    source_file_1 = source_folder.format(i) + \"INJECTION_T_40_STEPS_50_NP-ALPHA_0.75_SCHEDULE_linear_NP_unrealisitic,_low_resolution,_low_quality,_unreal,_line_drawing,_simple,_smooth_sample_0.png\"\n",
    "    source_file_2 = source_folder.format(i) + \"INJECTION_T_40_STEPS_50_NP-ALPHA_0.75_SCHEDULE_linear_NP_line_drawing,_simple,_smooth_sample_0.png\"\n",
    "    \n",
    "    # 构建目标文件的路径\n",
    "    target_file = target_folder + str(i) + \".png\"\n",
    "    \n",
    "    # 移动文件\n",
    "    try:\n",
    "        shutil.copy(source_file_1, target_file)\n",
    "    except:\n",
    "        shutil.copy(source_file_2, target_file)\n",
    "\n",
    "print(\"文件移动完成！\")\n"
   ]
  },
  {
   "cell_type": "code",
   "execution_count": 7,
   "metadata": {},
   "outputs": [
    {
     "name": "stdout",
     "output_type": "stream",
     "text": [
      "图像转换完成！\n"
     ]
    }
   ],
   "source": [
    "import os\n",
    "import cv2\n",
    "\n",
    "# 定义结果文件夹路径\n",
    "folder_path = \"./result/\"\n",
    "\n",
    "# 获取文件夹中的所有文件\n",
    "files = os.listdir(folder_path)\n",
    "\n",
    "# 遍历文件夹中的文件\n",
    "for file_name in files:\n",
    "    # 构建文件的完整路径\n",
    "    file_path = os.path.join(folder_path, file_name)\n",
    "    \n",
    "    # 检查文件是否为图片\n",
    "    if file_name.endswith(\".png\") or file_name.endswith(\".jpg\") or file_name.endswith(\".jpeg\"):\n",
    "        # 读取图像\n",
    "        image = cv2.imread(file_path)\n",
    "        \n",
    "        # 将图像转换为灰度图\n",
    "        gray_image = cv2.cvtColor(image, cv2.COLOR_BGR2GRAY)\n",
    "        \n",
    "        # 保存灰度图像，覆盖原始图像\n",
    "        cv2.imwrite(file_path, gray_image)\n",
    "\n",
    "print(\"图像转换完成！\")\n"
   ]
  }
 ],
 "metadata": {
  "kernelspec": {
   "display_name": "od",
   "language": "python",
   "name": "python3"
  },
  "language_info": {
   "codemirror_mode": {
    "name": "ipython",
    "version": 3
   },
   "file_extension": ".py",
   "mimetype": "text/x-python",
   "name": "python",
   "nbconvert_exporter": "python",
   "pygments_lexer": "ipython3",
   "version": "3.9.16"
  },
  "orig_nbformat": 4
 },
 "nbformat": 4,
 "nbformat_minor": 2
}
